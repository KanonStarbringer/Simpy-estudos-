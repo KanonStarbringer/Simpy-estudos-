{
 "cells": [
  {
   "cell_type": "code",
   "execution_count": 1,
   "id": "3e74bb3e",
   "metadata": {},
   "outputs": [],
   "source": [
    "#criando as primeiras entidades em SimPy (desafio 3)\n",
    "import random     # gerador de números aleatórios\n",
    "import simpy      # biblioteca de simulação"
   ]
  },
  {
   "cell_type": "code",
   "execution_count": 4,
   "id": "9f6ec6a4",
   "metadata": {},
   "outputs": [],
   "source": [
    "def geraChegadas(env, nome, numeroMaxChegadas):\n",
    "    # função que cria chegadas de entidades no sistema\n",
    "    contaChegada = 0\n",
    "    while contaChegada < numeroMaxChegadas:\n",
    "        yield env.timeout(random.triangular(0.1,1,1.1))\n",
    "        contaChegada += 1\n",
    "        print(\"%s %i chega em: %.1f \" % (nome, contaChegada, env.now))"
   ]
  },
  {
   "cell_type": "code",
   "execution_count": 8,
   "id": "56818c89",
   "metadata": {},
   "outputs": [
    {
     "name": "stdout",
     "output_type": "stream",
     "text": [
      "Cliente 1 chega em: 0.9 \n",
      "Cliente 2 chega em: 1.8 \n",
      "Cliente 3 chega em: 2.2 \n",
      "Cliente 4 chega em: 2.9 \n",
      "Cliente 5 chega em: 3.6 \n"
     ]
    }
   ],
   "source": [
    "random.seed(1000)         # semente do gerador de números aleatórios\n",
    "env = simpy.Environment() # cria o environment do modelo\n",
    "# cria o processo de chegadas\n",
    "env.process(geraChegadas(env, \"Cliente\", 5))\n",
    "env.run(until=10)"
   ]
  },
  {
   "cell_type": "code",
   "execution_count": null,
   "id": "a4e79250",
   "metadata": {},
   "outputs": [],
   "source": []
  }
 ],
 "metadata": {
  "kernelspec": {
   "display_name": "Python 3",
   "language": "python",
   "name": "python3"
  },
  "language_info": {
   "codemirror_mode": {
    "name": "ipython",
    "version": 3
   },
   "file_extension": ".py",
   "mimetype": "text/x-python",
   "name": "python",
   "nbconvert_exporter": "python",
   "pygments_lexer": "ipython3",
   "version": "3.8.8"
  }
 },
 "nbformat": 4,
 "nbformat_minor": 5
}
