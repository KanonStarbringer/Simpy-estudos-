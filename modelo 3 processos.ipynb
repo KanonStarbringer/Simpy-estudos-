{
 "cells": [
  {
   "cell_type": "code",
   "execution_count": 1,
   "id": "2fbbf5f7",
   "metadata": {},
   "outputs": [],
   "source": [
    "#modelo 3 processos\n",
    "import random\n",
    "\n",
    "def distributions(tipo):\n",
    "    return {\n",
    "        'arrival': random.expovariate(1/10.0),\n",
    "        'singing': random.triangular(10, 20, 30),\n",
    "        'applause': random.gauss(10, 1),\n",
    "    }.get(tipo, 0.0)"
   ]
  },
  {
   "cell_type": "code",
   "execution_count": 2,
   "id": "a9d3d362",
   "metadata": {},
   "outputs": [
    {
     "name": "stdout",
     "output_type": "stream",
     "text": [
      "arrival 3.8081541913330956\n",
      "singing 23.594760147646802\n",
      "applause 10.791259641374019\n"
     ]
    }
   ],
   "source": [
    "tipo = 'arrival'\n",
    "print(tipo, distributions(tipo))\n",
    "\n",
    "tipo = 'singing'\n",
    "print(tipo, distributions(tipo))\n",
    "\n",
    "tipo = 'applause'\n",
    "print(tipo, distributions(tipo))"
   ]
  },
  {
   "cell_type": "code",
   "execution_count": null,
   "id": "e9375c80",
   "metadata": {},
   "outputs": [],
   "source": []
  }
 ],
 "metadata": {
  "kernelspec": {
   "display_name": "Python 3",
   "language": "python",
   "name": "python3"
  },
  "language_info": {
   "codemirror_mode": {
    "name": "ipython",
    "version": 3
   },
   "file_extension": ".py",
   "mimetype": "text/x-python",
   "name": "python",
   "nbconvert_exporter": "python",
   "pygments_lexer": "ipython3",
   "version": "3.8.8"
  }
 },
 "nbformat": 4,
 "nbformat_minor": 5
}
