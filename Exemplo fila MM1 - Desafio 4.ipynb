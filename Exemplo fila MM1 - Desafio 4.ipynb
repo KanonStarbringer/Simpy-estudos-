{
 "cells": [
  {
   "cell_type": "code",
   "execution_count": 1,
   "id": "28fbac46",
   "metadata": {},
   "outputs": [],
   "source": [
    "#Exemplo fila MM1 - Desafio 4\n",
    "import random                       # gerador de números aleatórios\n",
    "import simpy                        # biblioteca de simulação"
   ]
  },
  {
   "cell_type": "code",
   "execution_count": 2,
   "id": "84380c75",
   "metadata": {},
   "outputs": [],
   "source": [
    "TEMPO_MEDIO_CHEGADAS = 1.0          # tempo médio entre chegadas sucessivas de clientes\n",
    "TEMPO_MEDIO_ATENDIMENTO = 0.5       # tempo médio de atendimento no servidor"
   ]
  },
  {
   "cell_type": "code",
   "execution_count": 3,
   "id": "e2e974b9",
   "metadata": {},
   "outputs": [],
   "source": [
    "def geraChegadas(env):\n",
    "    # função que cria chegadas de entidades no sistema\n",
    "    contaChegada = 0\n",
    "    while True:\n",
    "        # aguardo um intervalo de tempo exponencialmente distribuído\n",
    "        yield env.timeout(random.expovariate(1.0/TEMPO_MEDIO_CHEGADAS))\n",
    "        contaChegada += 1\n",
    "        print('%.1f Chegada do cliente %d' % (env.now, contaChegada))\n",
    "\n",
    "        # inicia o processo de atendimento\n",
    "        env.process(atendimentoServidor(env, \"cliente %d\" % contaChegada, servidorRes))"
   ]
  },
  {
   "cell_type": "code",
   "execution_count": 4,
   "id": "104c7b88",
   "metadata": {},
   "outputs": [],
   "source": [
    "def atendimentoServidor(env, nome, servidorRes):\n",
    "    # função que ocupa o servidor e realiza o atendimento   \n",
    "    # solicita o recurso servidorRes\n",
    "    request = servidorRes.request()\n",
    "\n",
    "    # aguarda em fila até a liberação do recurso e o ocupa\n",
    "    yield request                       \n",
    "    print('%.1f Servidor inicia o atendimento do %s' % (env.now, nome))\n",
    "\n",
    "    # aguarda um tempo de atendimento exponencialmente distribuído\n",
    "    yield env.timeout(random.expovariate(1.0/TEMPO_MEDIO_ATENDIMENTO))\n",
    "    print('%.1f Servidor termina o atendimento do %s. Clientes em fila: %i' \n",
    "            % (env.now, nome, len(servidorRes.queue)))\n",
    "\n",
    "    # libera o recurso servidorRes\n",
    "    yield servidorRes.release(request)"
   ]
  },
  {
   "cell_type": "code",
   "execution_count": 7,
   "id": "d748261b",
   "metadata": {},
   "outputs": [
    {
     "name": "stdout",
     "output_type": "stream",
     "text": [
      "0.5 Chegada do cliente 1\n",
      "0.5 Servidor inicia o atendimento do cliente 1\n",
      "1.4 Servidor termina o atendimento do cliente 1. Clientes em fila: 0\n",
      "3.1 Chegada do cliente 2\n",
      "3.1 Servidor inicia o atendimento do cliente 2\n",
      "3.3 Chegada do cliente 3\n",
      "4.1 Servidor termina o atendimento do cliente 2. Clientes em fila: 1\n",
      "4.1 Servidor inicia o atendimento do cliente 3\n",
      "4.1 Servidor termina o atendimento do cliente 3. Clientes em fila: 0\n",
      "4.3 Chegada do cliente 4\n",
      "4.3 Servidor inicia o atendimento do cliente 4\n",
      "4.5 Servidor termina o atendimento do cliente 4. Clientes em fila: 0\n",
      "7.4 Chegada do cliente 5\n",
      "7.4 Servidor inicia o atendimento do cliente 5\n",
      "7.7 Servidor termina o atendimento do cliente 5. Clientes em fila: 0\n",
      "7.8 Chegada do cliente 6\n",
      "7.8 Servidor inicia o atendimento do cliente 6\n",
      "7.8 Servidor termina o atendimento do cliente 6. Clientes em fila: 0\n",
      "8.7 Chegada do cliente 7\n",
      "8.7 Servidor inicia o atendimento do cliente 7\n",
      "9.5 Servidor termina o atendimento do cliente 7. Clientes em fila: 0\n",
      "9.8 Chegada do cliente 8\n",
      "9.8 Servidor inicia o atendimento do cliente 8\n"
     ]
    }
   ],
   "source": [
    "random.seed(25)                                 # semente do gerador de números aleatórios\n",
    "env = simpy.Environment()                       # cria o environment do modelo\n",
    "servidorRes = simpy.Resource(env, capacity=1)   # cria o recurso servidorRes\n",
    "env.process(geraChegadas(env))                  # incia processo de geração de chegadas\n",
    "\n",
    "env.run(until=10)                                # executa o modelo por 5 min"
   ]
  },
  {
   "cell_type": "code",
   "execution_count": null,
   "id": "fedeb5c7",
   "metadata": {},
   "outputs": [],
   "source": []
  }
 ],
 "metadata": {
  "kernelspec": {
   "display_name": "Python 3",
   "language": "python",
   "name": "python3"
  },
  "language_info": {
   "codemirror_mode": {
    "name": "ipython",
    "version": 3
   },
   "file_extension": ".py",
   "mimetype": "text/x-python",
   "name": "python",
   "nbconvert_exporter": "python",
   "pygments_lexer": "ipython3",
   "version": "3.8.8"
  }
 },
 "nbformat": 4,
 "nbformat_minor": 5
}
