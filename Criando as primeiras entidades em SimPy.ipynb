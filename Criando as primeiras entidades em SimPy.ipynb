{
 "cells": [
  {
   "cell_type": "code",
   "execution_count": 2,
   "id": "c0cd08ce",
   "metadata": {},
   "outputs": [],
   "source": [
    "#criando as primeiras entidades em SimPy\n",
    "import random             # gerador de números aleatórios\n",
    "import simpy              # biblioteca de simulação\n",
    "\n",
    "random.seed(1000)         # semente do gerador de números aleatórios"
   ]
  },
  {
   "cell_type": "code",
   "execution_count": 4,
   "id": "31e52074",
   "metadata": {},
   "outputs": [],
   "source": [
    "def geraChegadas(env, nome, taxa):\n",
    "    # função que cria chegadas de entidades no sistema\n",
    "    contaChegada = 0\n",
    "    while True:\n",
    "        yield env.timeout(random.expovariate(1/taxa))\n",
    "        contaChegada += 1\n",
    "        print(\"%s %i chega em: %.1f \" % (nome, contaChegada, env.now))"
   ]
  },
  {
   "cell_type": "code",
   "execution_count": 8,
   "id": "5ca71453",
   "metadata": {},
   "outputs": [
    {
     "name": "stdout",
     "output_type": "stream",
     "text": [
      "Cliente 1 chega em: 3.0 \n",
      "Cliente 2 chega em: 5.2 \n",
      "Cliente 3 chega em: 5.4 \n",
      "Cliente 4 chega em: 6.3 \n",
      "Cliente 5 chega em: 7.6 \n",
      "Cliente 6 chega em: 9.1 \n"
     ]
    }
   ],
   "source": [
    "random.seed(1000)         # semente do gerador de números aleatórios\n",
    "env = simpy.Environment() # cria o environment do modelo\n",
    "env.process(geraChegadas(env, \"Cliente\", 2)) # cria o processo de chegadas\n",
    "env.run(until=10) # roda a simulação por 10 unidades de tempo"
   ]
  },
  {
   "cell_type": "code",
   "execution_count": null,
   "id": "c61f2f4c",
   "metadata": {},
   "outputs": [],
   "source": []
  }
 ],
 "metadata": {
  "kernelspec": {
   "display_name": "Python 3",
   "language": "python",
   "name": "python3"
  },
  "language_info": {
   "codemirror_mode": {
    "name": "ipython",
    "version": 3
   },
   "file_extension": ".py",
   "mimetype": "text/x-python",
   "name": "python",
   "nbconvert_exporter": "python",
   "pygments_lexer": "ipython3",
   "version": "3.8.8"
  }
 },
 "nbformat": 4,
 "nbformat_minor": 5
}
