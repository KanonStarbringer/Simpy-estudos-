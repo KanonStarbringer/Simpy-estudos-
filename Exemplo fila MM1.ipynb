{
 "cells": [
  {
   "cell_type": "code",
   "execution_count": 1,
   "id": "a4746fcf",
   "metadata": {},
   "outputs": [],
   "source": [
    "#Exemplo fila M/M/1\n",
    "import random                       # gerador de números aleatórios\n",
    "import simpy                        # biblioteca de simulação"
   ]
  },
  {
   "cell_type": "code",
   "execution_count": 2,
   "id": "a23a07f8",
   "metadata": {},
   "outputs": [],
   "source": [
    "TEMPO_MEDIO_CHEGADAS = 1.0          # tempo médio entre chegadas sucessivas de clientes\n",
    "TEMPO_MEDIO_ATENDIMENTO = 0.5       # tempo médio de atendimento no servidor"
   ]
  },
  {
   "cell_type": "code",
   "execution_count": 3,
   "id": "ac1150c5",
   "metadata": {},
   "outputs": [],
   "source": [
    "def geraChegadas(env):\n",
    "    # função que cria chegadas de entidades no sistema\n",
    "    contaChegada = 0\n",
    "    while True:\n",
    "        # aguardo um intervalo de tempo exponencialmente distribuído\n",
    "        yield env.timeout(random.expovariate(1.0/TEMPO_MEDIO_CHEGADAS))\n",
    "        contaChegada += 1\n",
    "        print('%.1f Chegada do cliente %d' % (env.now, contaChegada))"
   ]
  },
  {
   "cell_type": "code",
   "execution_count": 4,
   "id": "d61c5a32",
   "metadata": {},
   "outputs": [],
   "source": [
    "def atendimentoServidor(env, nome, servidorRes):\n",
    "    # função que ocupa o servidor e realiza o atendimento\n",
    "    # solicita o recurso servidorRes\n",
    "    request = servidorRes.request()     \n",
    "\n",
    "    # aguarda em fila até a liberação do recurso e o ocupa\n",
    "    yield request                       \n",
    "    print('%.1f Servidor inicia o atendimento do %s' % (env.now, nome))\n",
    "\n",
    "    # aguarda um tempo de atendimento exponencialmente distribuído\n",
    "    yield env.timeout(random.expovariate(1.0/TEMPO_MEDIO_ATENDIMENTO))\n",
    "    print('%.1f Servidor termina o atendimento do %s' % (env.now, nome))\n",
    "\n",
    "    # libera o recurso servidorRes\n",
    "    yield servidorRes.release(request)"
   ]
  },
  {
   "cell_type": "code",
   "execution_count": 6,
   "id": "a177cff1",
   "metadata": {},
   "outputs": [
    {
     "name": "stdout",
     "output_type": "stream",
     "text": [
      "0.5 Chegada do cliente 1\n",
      "3.1 Chegada do cliente 2\n",
      "4.9 Chegada do cliente 3\n",
      "5.2 Chegada do cliente 4\n",
      "7.2 Chegada do cliente 5\n",
      "8.2 Chegada do cliente 6\n",
      "8.3 Chegada do cliente 7\n"
     ]
    }
   ],
   "source": [
    "random.seed(25)                                 # semente do gerador de números aleatórios\n",
    "env = simpy.Environment()                       # cria o environment do modelo\n",
    "servidorRes = simpy.Resource(env, capacity=1)   # cria o recurso servidorRes\n",
    "env.process(geraChegadas(env))                  # incia processo de geração de chegadas\n",
    "\n",
    "env.run(until=10)                                # executa o modelo por 5 min"
   ]
  },
  {
   "cell_type": "code",
   "execution_count": null,
   "id": "6a87300e",
   "metadata": {},
   "outputs": [],
   "source": []
  }
 ],
 "metadata": {
  "kernelspec": {
   "display_name": "Python 3",
   "language": "python",
   "name": "python3"
  },
  "language_info": {
   "codemirror_mode": {
    "name": "ipython",
    "version": 3
   },
   "file_extension": ".py",
   "mimetype": "text/x-python",
   "name": "python",
   "nbconvert_exporter": "python",
   "pygments_lexer": "ipython3",
   "version": "3.8.8"
  }
 },
 "nbformat": 4,
 "nbformat_minor": 5
}
