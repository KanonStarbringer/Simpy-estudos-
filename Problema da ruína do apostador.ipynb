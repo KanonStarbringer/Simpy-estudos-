{
 "cells": [
  {
   "cell_type": "code",
   "execution_count": 1,
   "id": "ab4dd24c",
   "metadata": {},
   "outputs": [],
   "source": [
    "#Problema da ruína do apostador\n",
    "import random"
   ]
  },
  {
   "cell_type": "code",
   "execution_count": 2,
   "id": "ba1129e9",
   "metadata": {},
   "outputs": [],
   "source": [
    "names = ['Chewbacca', 'R2D2']   # jogadores"
   ]
  },
  {
   "cell_type": "code",
   "execution_count": 6,
   "id": "0d0db42d",
   "metadata": {},
   "outputs": [],
   "source": [
    "def transfer(winner, looser, bankroll, tossCount):\n",
    "    # função que transfere o dinheiro do winner para o looser\n",
    "    # imprime o vencedor do lançamento  e o bankroll de cada jogador\n",
    "    bankroll[winner] += 1\n",
    "    bankroll[looser] -= 1\n",
    "    print(\"\\nLançamento: %d\\tVencedor: %s\" % (tossCount, names[winner]))\n",
    "    print(\"%s possui: $%d e %s possui: $%d\"\n",
    "            % (names[0], bankroll[0], names[1], bankroll[1]))"
   ]
  },
  {
   "cell_type": "code",
   "execution_count": 7,
   "id": "36b54fb1",
   "metadata": {},
   "outputs": [],
   "source": [
    "def coinToss(bankroll, tossCount):\n",
    "    # função que sorteia a moeda e chama a transfer\n",
    "    if random.uniform(0, 1) < 0.5:\n",
    "        transfer(1, 0, bankroll, tossCount)\n",
    "    else:\n",
    "        transfer(0, 1, bankroll, tossCount)"
   ]
  },
  {
   "cell_type": "code",
   "execution_count": 8,
   "id": "a449b9c1",
   "metadata": {},
   "outputs": [],
   "source": [
    "def run2Ruin(bankroll):\n",
    "    # função que executa o jogo até a ruina de um dos jogadores\n",
    "    tossCount = 0               # contador de lançamentos\n",
    "    while bankroll[0] > 0 and bankroll[1] > 0:\n",
    "        tossCount += 1\n",
    "        coinToss(bankroll,tossCount)\n",
    "    winner = bankroll[1] > bankroll[0]\n",
    "    print(\"\\n%s venceu depois de %d lançamentos, fim de jogo!\"\n",
    "            % (names[winner], tossCount))"
   ]
  },
  {
   "cell_type": "code",
   "execution_count": 9,
   "id": "81246815",
   "metadata": {},
   "outputs": [
    {
     "name": "stdout",
     "output_type": "stream",
     "text": [
      "\n",
      "Lançamento: 1\tVencedor: Chewbacca\n",
      "Chewbacca possui: $6 e R2D2 possui: $4\n",
      "\n",
      "Lançamento: 2\tVencedor: Chewbacca\n",
      "Chewbacca possui: $7 e R2D2 possui: $3\n",
      "\n",
      "Lançamento: 3\tVencedor: R2D2\n",
      "Chewbacca possui: $6 e R2D2 possui: $4\n",
      "\n",
      "Lançamento: 4\tVencedor: Chewbacca\n",
      "Chewbacca possui: $7 e R2D2 possui: $3\n",
      "\n",
      "Lançamento: 5\tVencedor: R2D2\n",
      "Chewbacca possui: $6 e R2D2 possui: $4\n",
      "\n",
      "Lançamento: 6\tVencedor: R2D2\n",
      "Chewbacca possui: $5 e R2D2 possui: $5\n",
      "\n",
      "Lançamento: 7\tVencedor: Chewbacca\n",
      "Chewbacca possui: $6 e R2D2 possui: $4\n",
      "\n",
      "Lançamento: 8\tVencedor: Chewbacca\n",
      "Chewbacca possui: $7 e R2D2 possui: $3\n",
      "\n",
      "Lançamento: 9\tVencedor: Chewbacca\n",
      "Chewbacca possui: $8 e R2D2 possui: $2\n",
      "\n",
      "Lançamento: 10\tVencedor: R2D2\n",
      "Chewbacca possui: $7 e R2D2 possui: $3\n",
      "\n",
      "Lançamento: 11\tVencedor: Chewbacca\n",
      "Chewbacca possui: $8 e R2D2 possui: $2\n",
      "\n",
      "Lançamento: 12\tVencedor: Chewbacca\n",
      "Chewbacca possui: $9 e R2D2 possui: $1\n",
      "\n",
      "Lançamento: 13\tVencedor: R2D2\n",
      "Chewbacca possui: $8 e R2D2 possui: $2\n",
      "\n",
      "Lançamento: 14\tVencedor: R2D2\n",
      "Chewbacca possui: $7 e R2D2 possui: $3\n",
      "\n",
      "Lançamento: 15\tVencedor: R2D2\n",
      "Chewbacca possui: $6 e R2D2 possui: $4\n",
      "\n",
      "Lançamento: 16\tVencedor: Chewbacca\n",
      "Chewbacca possui: $7 e R2D2 possui: $3\n",
      "\n",
      "Lançamento: 17\tVencedor: Chewbacca\n",
      "Chewbacca possui: $8 e R2D2 possui: $2\n",
      "\n",
      "Lançamento: 18\tVencedor: R2D2\n",
      "Chewbacca possui: $7 e R2D2 possui: $3\n",
      "\n",
      "Lançamento: 19\tVencedor: Chewbacca\n",
      "Chewbacca possui: $8 e R2D2 possui: $2\n",
      "\n",
      "Lançamento: 20\tVencedor: Chewbacca\n",
      "Chewbacca possui: $9 e R2D2 possui: $1\n",
      "\n",
      "Lançamento: 21\tVencedor: R2D2\n",
      "Chewbacca possui: $8 e R2D2 possui: $2\n",
      "\n",
      "Lançamento: 22\tVencedor: R2D2\n",
      "Chewbacca possui: $7 e R2D2 possui: $3\n",
      "\n",
      "Lançamento: 23\tVencedor: R2D2\n",
      "Chewbacca possui: $6 e R2D2 possui: $4\n",
      "\n",
      "Lançamento: 24\tVencedor: R2D2\n",
      "Chewbacca possui: $5 e R2D2 possui: $5\n",
      "\n",
      "Lançamento: 25\tVencedor: Chewbacca\n",
      "Chewbacca possui: $6 e R2D2 possui: $4\n",
      "\n",
      "Lançamento: 26\tVencedor: Chewbacca\n",
      "Chewbacca possui: $7 e R2D2 possui: $3\n",
      "\n",
      "Lançamento: 27\tVencedor: Chewbacca\n",
      "Chewbacca possui: $8 e R2D2 possui: $2\n",
      "\n",
      "Lançamento: 28\tVencedor: Chewbacca\n",
      "Chewbacca possui: $9 e R2D2 possui: $1\n",
      "\n",
      "Lançamento: 29\tVencedor: Chewbacca\n",
      "Chewbacca possui: $10 e R2D2 possui: $0\n",
      "\n",
      "Chewbacca venceu depois de 29 lançamentos, fim de jogo!\n"
     ]
    }
   ],
   "source": [
    "bankroll = [5, 5]               # dinheiro disponível para cada jogador\n",
    "run2Ruin(bankroll)              # inicia o jogo"
   ]
  },
  {
   "cell_type": "code",
   "execution_count": null,
   "id": "0631b4ad",
   "metadata": {},
   "outputs": [],
   "source": []
  }
 ],
 "metadata": {
  "kernelspec": {
   "display_name": "Python 3",
   "language": "python",
   "name": "python3"
  },
  "language_info": {
   "codemirror_mode": {
    "name": "ipython",
    "version": 3
   },
   "file_extension": ".py",
   "mimetype": "text/x-python",
   "name": "python",
   "nbconvert_exporter": "python",
   "pygments_lexer": "ipython3",
   "version": "3.8.8"
  }
 },
 "nbformat": 4,
 "nbformat_minor": 5
}
